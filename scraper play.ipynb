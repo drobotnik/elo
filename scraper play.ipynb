{
 "cells": [
  {
   "cell_type": "code",
   "execution_count": 225,
   "metadata": {
    "collapsed": false
   },
   "outputs": [
    {
     "name": "stdout",
     "output_type": "stream",
     "text": [
      "hello\n"
     ]
    }
   ],
   "source": [
    "from bs4 import BeautifulSoup\n",
    "import requests as r\n",
    "import csv\n",
    "import pandas as pd\n",
    "print(\"hello\")\n",
    "\n"
   ]
  },
  {
   "cell_type": "code",
   "execution_count": 257,
   "metadata": {
    "collapsed": false
   },
   "outputs": [
    {
     "name": "stdout",
     "output_type": "stream",
     "text": [
      "hello\n"
     ]
    }
   ],
   "source": [
    "from bs4 import BeautifulSoup\n",
    "import requests as r\n",
    "import csv\n",
    "import pandas as pd\n",
    "print(\"hello\")\n",
    "\n",
    "def result_to_num(result):\n",
    "    if result == 'loss':\n",
    "        return 0\n",
    "    elif result == 'win':\n",
    "        return 1\n",
    "    # What about No Contests? This is currently a known bug\n",
    "    return 0.5\n",
    "\n",
    "\n",
    "\n",
    "\n",
    "def get_fighter_matchups(fighter_id):\n",
    "    page = r.get(\"http://www.sherdog.com/fighter/index?id={}\".format(fighter_id)).text\n",
    "    soup = BeautifulSoup(page, 'html.parser')\n",
    "    table = soup.find('div', {\"class\": \"module fight_history\"})\n",
    "    fighter_name = soup.find('h1', {'itemprop': 'name'}).span.contents[0]\n",
    "    fighter_table_prep = fighter_id, fighter_name\n",
    "    cells = []\n",
    "\n",
    "\n",
    "    for row in table.findAll('tr')[1:]:\n",
    "        return row.findAll('td')\n",
    "        result_cell, fighter_cell, event_cell, *blah = row.findAll('td')\n",
    "        result = result_cell.span.contents[0]\n",
    "        result = result_to_num(result)\n",
    "        opponent_id_url = fighter_cell.contents[0]['href']\n",
    "        opponent_id = int(opponent_id_url[opponent_id_url.rfind(\"-\") + 1:])\n",
    "        event_link = event_cell.contents[0]['href']\n",
    "        event_date = event_cell.findAll('span')[-1].contents[0]\n",
    "        fighter_out = (fighter_id, opponent_id, result, event_date, event_link)\n",
    "        cells += [fighter_out]\n",
    "    return fighter_table_prep, cells\n",
    "\n",
    "\n",
    "\n",
    "\n",
    "def scrape():\n",
    "    with open('test_match_csv.csv', 'a') as match_table, open('test_fighter_csv.csv', 'a') as fighters_table, open(:\n",
    "        match_writer = csv.writer(match_table)\n",
    "        fighter_writer = csv.writer(fighters_table)\n",
    "        \n",
    "        n = 1\n",
    "        while True:\n",
    "            try:\n",
    "                fighter_table_prep, fight_results = get_fighter_matchups(n)\n",
    "                print(fighter_table_prep)\n",
    "                match_writer.writerows(fight_results)\n",
    "                fighter_writer.writerow(fighter_table_prep)\n",
    "            except AttributeError:\n",
    "                if n % 10000:\n",
    "                    print('Failed to find fighter ID: {}'.format(n))\n",
    "            except ValueError:\n",
    "                errors_writer.writerow([n])\n",
    "                continue\n",
    "            n += 1\n",
    "    "
   ]
  },
  {
   "cell_type": "code",
   "execution_count": 276,
   "metadata": {
    "collapsed": false
   },
   "outputs": [
    {
     "ename": "AttributeError",
     "evalue": "'NoneType' object has no attribute 'span'",
     "output_type": "error",
     "traceback": [
      "\u001b[0;31m---------------------------------------------------------------------------\u001b[0m",
      "\u001b[0;31mAttributeError\u001b[0m                            Traceback (most recent call last)",
      "\u001b[0;32m<ipython-input-276-df2d16a33119>\u001b[0m in \u001b[0;36m<module>\u001b[0;34m()\u001b[0m\n\u001b[0;32m----> 1\u001b[0;31m \u001b[0mbroken\u001b[0m \u001b[0;34m=\u001b[0m \u001b[0mget_fighter_matchups\u001b[0m\u001b[0;34m(\u001b[0m\u001b[0;36m105\u001b[0m\u001b[0;34m)\u001b[0m\u001b[0;34m\u001b[0m\u001b[0m\n\u001b[0m",
      "\u001b[0;32m<ipython-input-257-ee501add1d14>\u001b[0m in \u001b[0;36mget_fighter_matchups\u001b[0;34m(fighter_id)\u001b[0m\n\u001b[1;32m     20\u001b[0m     \u001b[0msoup\u001b[0m \u001b[0;34m=\u001b[0m \u001b[0mBeautifulSoup\u001b[0m\u001b[0;34m(\u001b[0m\u001b[0mpage\u001b[0m\u001b[0;34m,\u001b[0m \u001b[0;34m'html.parser'\u001b[0m\u001b[0;34m)\u001b[0m\u001b[0;34m\u001b[0m\u001b[0m\n\u001b[1;32m     21\u001b[0m     \u001b[0mtable\u001b[0m \u001b[0;34m=\u001b[0m \u001b[0msoup\u001b[0m\u001b[0;34m.\u001b[0m\u001b[0mfind\u001b[0m\u001b[0;34m(\u001b[0m\u001b[0;34m'div'\u001b[0m\u001b[0;34m,\u001b[0m \u001b[0;34m{\u001b[0m\u001b[0;34m\"class\"\u001b[0m\u001b[0;34m:\u001b[0m \u001b[0;34m\"module fight_history\"\u001b[0m\u001b[0;34m}\u001b[0m\u001b[0;34m)\u001b[0m\u001b[0;34m\u001b[0m\u001b[0m\n\u001b[0;32m---> 22\u001b[0;31m     \u001b[0mfighter_name\u001b[0m \u001b[0;34m=\u001b[0m \u001b[0msoup\u001b[0m\u001b[0;34m.\u001b[0m\u001b[0mfind\u001b[0m\u001b[0;34m(\u001b[0m\u001b[0;34m'h1'\u001b[0m\u001b[0;34m,\u001b[0m \u001b[0;34m{\u001b[0m\u001b[0;34m'itemprop'\u001b[0m\u001b[0;34m:\u001b[0m \u001b[0;34m'name'\u001b[0m\u001b[0;34m}\u001b[0m\u001b[0;34m)\u001b[0m\u001b[0;34m.\u001b[0m\u001b[0mspan\u001b[0m\u001b[0;34m.\u001b[0m\u001b[0mcontents\u001b[0m\u001b[0;34m[\u001b[0m\u001b[0;36m0\u001b[0m\u001b[0;34m]\u001b[0m\u001b[0;34m\u001b[0m\u001b[0m\n\u001b[0m\u001b[1;32m     23\u001b[0m     \u001b[0mfighter_table_prep\u001b[0m \u001b[0;34m=\u001b[0m \u001b[0mfighter_id\u001b[0m\u001b[0;34m,\u001b[0m \u001b[0mfighter_name\u001b[0m\u001b[0;34m\u001b[0m\u001b[0m\n\u001b[1;32m     24\u001b[0m     \u001b[0mcells\u001b[0m \u001b[0;34m=\u001b[0m \u001b[0;34m[\u001b[0m\u001b[0;34m]\u001b[0m\u001b[0;34m\u001b[0m\u001b[0m\n",
      "\u001b[0;31mAttributeError\u001b[0m: 'NoneType' object has no attribute 'span'"
     ]
    }
   ],
   "source": [
    "broken = get_fighter_matchups(105)"
   ]
  },
  {
   "cell_type": "code",
   "execution_count": 275,
   "metadata": {
    "collapsed": false
   },
   "outputs": [
    {
     "name": "stdout",
     "output_type": "stream",
     "text": [
      "<td class=\"event-upcoming\" colspan=\"4\">\n",
      "<section>\n",
      "<div class=\"module\" itemprop=\"performerIn\" itemscope=\"\" itemtype=\"http://schema.org/Event\">\n",
      "<div class=\"module_header\">\n",
      "<h2 class=\"text_center\" itemprop=\"name\">TFE MMA</h2>\n",
      "</div>\n",
      "<div class=\"content event\">\n",
      "<div class=\"date_location text_center\">\n",
      "<meta content=\"2016-08-26T00:00:00-07:00\" itemprop=\"startDate\"/>\n",
      "<h4>August 26, 2016 / <em itemprop=\"location\" itemscope=\"\" itemtype=\"http://schema.org/Place\"><span itemprop=\"name\">Business Expo Center, Anaheim, California, United States</span></em></h4>\n",
      "</div>\n",
      "<div class=\"fight\">\n",
      "<span class=\"versus\">Versus</span>\n",
      "<div class=\"fighter left_side\" itemprop=\"performer\" itemscope=\"\" itemtype=\"http://schema.org/Person\">\n",
      "<a href=\"/fighter/Joe-Stevenson-65\" itemprop=\"url\"><img alt=\"Joe Stevenson\" itemprop=\"image\" src=\"http://www3.cdn.sherdog.com/image_crop/72/72/_images/fighter/1405047952561_20140710075959_1MG_3260.JPG\" title=\"Joe Stevenson\"/></a>\n",
      "<h3><a href=\"/fighter/Joe-Stevenson-65\"><span itemprop=\"name\">Joe Stevenson</span></a></h3>\n",
      "<span class=\"record\">31 - 16 - 0</span>\n",
      "<em>(Win - Loss - Draw)</em>\n",
      "</div>\n",
      "<div class=\"fighter right_side\" itemprop=\"performer\" itemscope=\"\" itemtype=\"http://schema.org/Person\">\n",
      "<a href=\"/fighter/Gabriel-Miglioli-15680\" itemprop=\"url\"><img alt=\"Gabriel Miglioli\" itemprop=\"image\" src=\"http://www4.cdn.sherdog.com/image_crop/72/72/_images/fighter/14409162921DX_6081.jpg\" title=\"Gabriel Miglioli\"/></a>\n",
      "<h3><a href=\"/fighter/Gabriel-Miglioli-15680\"><span itemprop=\"name\">Gabriel Miglioli</span></a></h3>\n",
      "<span class=\"record\">9 - 8 - 0</span>\n",
      "<em>(Win - Loss - Draw)</em>\n",
      "</div>\n",
      "</div>\n",
      "<div class=\"footer\">\n",
      "<a class=\"single_button\" href=\"/events/TFE-MMA-Vengeance-53797\">See entire fight card</a>\n",
      "</div>\n",
      "</div>\n",
      "</div>\n",
      "</section>\n",
      "<td>\n",
      "</td></td>\n",
      "<td>\n",
      "</td>\n"
     ]
    }
   ],
   "source": [
    "for _ in broken:\n",
    "    print(_)"
   ]
  },
  {
   "cell_type": "code",
   "execution_count": null,
   "metadata": {
    "collapsed": true
   },
   "outputs": [],
   "source": [
    "outy  = scrape()"
   ]
  },
  {
   "cell_type": "code",
   "execution_count": 230,
   "metadata": {
    "collapsed": false
   },
   "outputs": [],
   "source": [
    "fighters = pd.read_csv('test_match_csv.csv', index_col=False, header=None, names=['fighter_id', 'opponent_id', 'result', 'date', 'event_url'])"
   ]
  },
  {
   "cell_type": "code",
   "execution_count": 239,
   "metadata": {
    "collapsed": false
   },
   "outputs": [
    {
     "data": {
      "text/plain": [
       "0"
      ]
     },
     "execution_count": 239,
     "metadata": {},
     "output_type": "execute_result"
    }
   ],
   "source": [
    "10 % 2"
   ]
  },
  {
   "cell_type": "code",
   "execution_count": 248,
   "metadata": {
    "collapsed": false
   },
   "outputs": [
    {
     "data": {
      "text/plain": [
       "<td class=\"event-upcoming\" colspan=\"4\">\n",
       "<section>\n",
       "<div class=\"module\" itemprop=\"performerIn\" itemscope=\"\" itemtype=\"http://schema.org/Event\">\n",
       "<div class=\"module_header\">\n",
       "<h2 class=\"text_center\" itemprop=\"name\">TFE MMA</h2>\n",
       "</div>\n",
       "<div class=\"content event\">\n",
       "<div class=\"date_location text_center\">\n",
       "<meta content=\"2016-08-26T00:00:00-07:00\" itemprop=\"startDate\"/>\n",
       "<h4>August 26, 2016 / <em itemprop=\"location\" itemscope=\"\" itemtype=\"http://schema.org/Place\"><span itemprop=\"name\">Business Expo Center, Anaheim, California, United States</span></em></h4>\n",
       "</div>\n",
       "<div class=\"fight\">\n",
       "<span class=\"versus\">Versus</span>\n",
       "<div class=\"fighter left_side\" itemprop=\"performer\" itemscope=\"\" itemtype=\"http://schema.org/Person\">\n",
       "<a href=\"/fighter/Joe-Stevenson-65\" itemprop=\"url\"><img alt=\"Joe Stevenson\" itemprop=\"image\" src=\"http://www3.cdn.sherdog.com/image_crop/72/72/_images/fighter/1405047952561_20140710075959_1MG_3260.JPG\" title=\"Joe Stevenson\"/></a>\n",
       "<h3><a href=\"/fighter/Joe-Stevenson-65\"><span itemprop=\"name\">Joe Stevenson</span></a></h3>\n",
       "<span class=\"record\">31 - 16 - 0</span>\n",
       "<em>(Win - Loss - Draw)</em>\n",
       "</div>\n",
       "<div class=\"fighter right_side\" itemprop=\"performer\" itemscope=\"\" itemtype=\"http://schema.org/Person\">\n",
       "<a href=\"/fighter/Gabriel-Miglioli-15680\" itemprop=\"url\"><img alt=\"Gabriel Miglioli\" itemprop=\"image\" src=\"http://www4.cdn.sherdog.com/image_crop/72/72/_images/fighter/14409162921DX_6081.jpg\" title=\"Gabriel Miglioli\"/></a>\n",
       "<h3><a href=\"/fighter/Gabriel-Miglioli-15680\"><span itemprop=\"name\">Gabriel Miglioli</span></a></h3>\n",
       "<span class=\"record\">9 - 8 - 0</span>\n",
       "<em>(Win - Loss - Draw)</em>\n",
       "</div>\n",
       "</div>\n",
       "<div class=\"footer\">\n",
       "<a class=\"single_button\" href=\"/events/TFE-MMA-Vengeance-53797\">See entire fight card</a>\n",
       "</div>\n",
       "</div>\n",
       "</div>\n",
       "</section>\n",
       "<td>\n",
       "</td></td>"
      ]
     },
     "execution_count": 248,
     "metadata": {},
     "output_type": "execute_result"
    }
   ],
   "source": [
    "broken[0]"
   ]
  },
  {
   "cell_type": "code",
   "execution_count": null,
   "metadata": {
    "collapsed": true
   },
   "outputs": [],
   "source": []
  }
 ],
 "metadata": {
  "kernelspec": {
   "display_name": "Python [Root]",
   "language": "python",
   "name": "Python [Root]"
  },
  "language_info": {
   "codemirror_mode": {
    "name": "ipython",
    "version": 3
   },
   "file_extension": ".py",
   "mimetype": "text/x-python",
   "name": "python",
   "nbconvert_exporter": "python",
   "pygments_lexer": "ipython3",
   "version": "3.5.2"
  }
 },
 "nbformat": 4,
 "nbformat_minor": 0
}
