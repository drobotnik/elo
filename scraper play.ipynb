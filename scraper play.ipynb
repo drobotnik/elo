{
 "cells": [
  {
   "cell_type": "code",
   "execution_count": null,
   "metadata": {
    "collapsed": false
   },
   "outputs": [],
   "source": [
    "from bs4 import BeautifulSoup"
   ]
  },
  {
   "cell_type": "code",
   "execution_count": null,
   "metadata": {
    "collapsed": false
   },
   "outputs": [],
   "source": [
    "def strategy_1(soup):\n",
    "    fighter_id = 1\n",
    "    table = soup.find('div', {\"class\": \"module fight_history\"})\n",
    "    fighter_name = soup.find('h1', {'itemprop': 'name'}).span.contents[0]\n",
    "    fighter_table_prep = fighter_id, fighter_name\n",
    "    cells = []\n",
    "\n",
    "    event_date = 'NO FIGHTS FOUND'\n",
    "\n",
    "    for row in table.findAll('tr')[1:]:\n",
    "        result_cell, fighter_cell, event_cell, *blah = row.findAll('td')\n",
    "        result = result_cell.span.contents[0]\n",
    "        opponent_id_url = fighter_cell.contents[0]['href']\n",
    "        opponent_id = int(opponent_id_url[opponent_id_url.rfind(\"-\") + 1:])\n",
    "        event_link = event_cell.contents[0]['href']\n",
    "        event_date = event_cell.findAll('span')[-1].contents[0]\n",
    "        fighter_out = (fighter_id, opponent_id, result, event_date, event_link)\n",
    "        cells += [fighter_out]\n",
    "    return fighter_table_prep, cells, event_date"
   ]
  },
  {
   "cell_type": "code",
   "execution_count": null,
   "metadata": {
    "collapsed": false
   },
   "outputs": [],
   "source": [
    "def find_name(soup):\n",
    "    name_div = soup.find('div', {\"class\": \"module bio_fighter vcard\"})\n",
    "    fighter_name = soup.find('h1', {'itemprop': 'name'}).span.contents[0]\n",
    "    return fighter_name"
   ]
  },
  {
   "cell_type": "code",
   "execution_count": null,
   "metadata": {
    "collapsed": true
   },
   "outputs": [],
   "source": [
    "def find_pro_fights(soup, fighter_id):\n",
    "    fight_divs = soup.findAll('div', {\"class\": \"module fight_history\"})\n",
    "    for section in fight_divs:\n",
    "        section_type = section.find('div', {\"class\": \"module_header\"}).contents[1].text\n",
    "        if 'Fight History - Pro' == section_type:\n",
    "            cells = []\n",
    "            event_date = 'NO FIGHTS FOUND'\n",
    "            for row in section.findAll('tr')[1:]:\n",
    "                result_cell, fighter_cell, event_cell, *blah = row.findAll('td')\n",
    "                result = result_cell.span.contents[0]\n",
    "                opponent_id_url = fighter_cell.contents[0]['href']\n",
    "                opponent_id = int(opponent_id_url[opponent_id_url.rfind(\"-\") + 1:])\n",
    "                event_link = event_cell.contents[0]['href']\n",
    "                event_date = event_cell.findAll('span')[-1].contents[0]\n",
    "                fighter_out = (fighter_id, opponent_id, result, event_date, event_link)\n",
    "                cells += [fighter_out]\n",
    "                \n",
    "            return cells\n",
    "    else:\n",
    "        return('poo')\n",
    "        "
   ]
  },
  {
   "cell_type": "code",
   "execution_count": null,
   "metadata": {
    "collapsed": false
   },
   "outputs": [],
   "source": [
    "file_template = 'fighter_lookup{}.html'\n",
    "for f_id in range(1, 7):\n",
    "    my_soup = BeautifulSoup(open(file_template.format(f_id), encoding='utf-8'), \"html.parser\")\n",
    "    print(find_name(my_soup))\n",
    "    out = find_pro_fights(soup, f_id)\n",
    "    print(out)\n",
    "    print('***')\n"
   ]
  },
  {
   "cell_type": "code",
   "execution_count": null,
   "metadata": {
    "collapsed": true
   },
   "outputs": [],
   "source": []
  }
 ],
 "metadata": {
  "kernelspec": {
   "display_name": "Python 3",
   "language": "python",
   "name": "python3"
  },
  "language_info": {
   "codemirror_mode": {
    "name": "ipython",
    "version": 3
   },
   "file_extension": ".py",
   "mimetype": "text/x-python",
   "name": "python",
   "nbconvert_exporter": "python",
   "pygments_lexer": "ipython3",
   "version": "3.5.2"
  }
 },
 "nbformat": 4,
 "nbformat_minor": 0
}
