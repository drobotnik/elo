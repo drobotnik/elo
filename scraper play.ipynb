{
 "cells": [
  {
   "cell_type": "code",
   "execution_count": 1,
   "metadata": {
    "collapsed": false
   },
   "outputs": [],
   "source": [
    "from bs4 import BeautifulSoup\n",
    "from pprint import pprint"
   ]
  },
  {
   "cell_type": "code",
   "execution_count": 2,
   "metadata": {
    "collapsed": true
   },
   "outputs": [],
   "source": [
    "def find_name(soup):\n",
    "    name_div = soup.find('div', {\"class\": \"module bio_fighter vcard\"})\n",
    "    fighter_name = soup.find('h1', {'itemprop': 'name'}).span.contents[0]\n",
    "    return fighter_name\n",
    "\n",
    "def find_pro_fights(soup, fighter_id):\n",
    "    fight_divs = soup.findAll('div', {\"class\": \"module fight_history\"})\n",
    "    for section in fight_divs:\n",
    "        section_type = section.find('div', {\"class\": \"module_header\"}).contents[1].text\n",
    "        if 'Fight History - Pro' == section_type:\n",
    "            cells = []\n",
    "            event_date = 'NO FIGHTS FOUND'\n",
    "            for row in section.findAll('tr')[1:]:\n",
    "                result_cell, fighter_cell, event_cell, *blah = row.findAll('td')\n",
    "                result = result_cell.span.contents[0]\n",
    "                opponent_id_url = fighter_cell.contents[0]['href']\n",
    "                opponent_id = int(opponent_id_url[opponent_id_url.rfind(\"-\") + 1:])\n",
    "                event_link = event_cell.contents[0]['href']\n",
    "                event_date = event_cell.findAll('span')[-1].contents[0]\n",
    "                fighter_out = (fighter_id, opponent_id, result, event_date, event_link)\n",
    "                cells += [fighter_out]\n",
    "                \n",
    "            return cells\n",
    "    raise Exception('didnt find any pro fights')"
   ]
  },
  {
   "cell_type": "code",
   "execution_count": null,
   "metadata": {
    "collapsed": false
   },
   "outputs": [],
   "source": [
    "def parse_fighter_page(page_soup, fighter_id):\n",
    "    fighter_info = {}\n",
    "    try:\n",
    "        fighter_info['fighter_name'] = find_name(page_soup)\n",
    "        fighter_info['type'] = 'f'\n",
    "    except AttributeError:\n",
    "        fighter_info['fighter_name'] = 'no_fighter'\n",
    "        fighter_info['type'] = 'm'\n",
    "        return fighter_info\n",
    "    fighter_info['matches'] = find_pro_fights(page_soup, fighter_id)\n",
    "    return fighter_info\n",
    "\n",
    "\n",
    "file_template = 'fighter_lookup{}.html'\n",
    "for f_id in range(1, 8):\n",
    "    my_soup = BeautifulSoup(open(file_template.format(f_id), encoding='utf-8'), \"html.parser\")\n",
    "    out = parse_fighter_page(my_soup, f_id)\n",
    "    pprint(out, width=100)\n",
    "    print('***')\n"
   ]
  },
  {
   "cell_type": "code",
   "execution_count": null,
   "metadata": {
    "collapsed": true
   },
   "outputs": [],
   "source": []
  },
  {
   "cell_type": "code",
   "execution_count": null,
   "metadata": {
    "collapsed": true
   },
   "outputs": [],
   "source": []
  }
 ],
 "metadata": {
  "kernelspec": {
   "display_name": "Python 3",
   "language": "python",
   "name": "python3"
  },
  "language_info": {
   "codemirror_mode": {
    "name": "ipython",
    "version": 3
   },
   "file_extension": ".py",
   "mimetype": "text/x-python",
   "name": "python",
   "nbconvert_exporter": "python",
   "pygments_lexer": "ipython3",
   "version": "3.5.2"
  }
 },
 "nbformat": 4,
 "nbformat_minor": 0
}
