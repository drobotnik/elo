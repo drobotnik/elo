{
 "cells": [
  {
   "cell_type": "code",
   "execution_count": null,
   "metadata": {
    "collapsed": false
   },
   "outputs": [],
   "source": [
    "import pandas as pd\n",
    "import requests as r\n",
    "from bs4 import BeautifulSoup\n",
    "\n",
    "fighters = pd.read_csv('fighter_sot.csv', encoding='iso-8859-1', low_memory=False)"
   ]
  },
  {
   "cell_type": "code",
   "execution_count": null,
   "metadata": {
    "collapsed": false
   },
   "outputs": [],
   "source": [
    "not_missing = fighters['type'] == 'e'\n",
    "not_found = fighters['fighter_name'].isnull()"
   ]
  },
  {
   "cell_type": "code",
   "execution_count": null,
   "metadata": {
    "collapsed": false
   },
   "outputs": [],
   "source": [
    "only_errors = fighters[not_found & not_missing]"
   ]
  },
  {
   "cell_type": "code",
   "execution_count": null,
   "metadata": {
    "collapsed": false
   },
   "outputs": [],
   "source": [
    "correct = [1,2,3]\n",
    "incorrect = [128663, 128669, 128769]\n",
    "sample = correct + incorrect"
   ]
  },
  {
   "cell_type": "code",
   "execution_count": null,
   "metadata": {
    "collapsed": false
   },
   "outputs": [],
   "source": [
    "def parse_fighter_page(page_soup):\n",
    "    fighter_info = {'figher_name':'no_fighter', 'type':'m'}\n",
    "    matches = None\n",
    "    try:\n",
    "        #get fighter name\n",
    "        # set fighter info\n",
    "    except:\n",
    "        pass\n",
    "    try:\n",
    "        # get matches with strategy 1\n",
    "        # matches = blah\n",
    "    except:\n",
    "        pass\n",
    "    try:\n",
    "        # get matches with strategy 2\n",
    "        # matches = blah2\n",
    "    except: # if wrong strategy error thrown\n",
    "        pass\n",
    "    return fighter_info, matchesc\n",
    "    \n",
    "\n",
    "\n",
    "def verify(row):\n",
    "    name = row['fighter_name']\n",
    "    fighter_id = row['id']\n",
    "    row_type = row['type']\n",
    "    #fighter_page = soup(lookup fighter id)\n",
    "    # fighter_info, matches = parser(fighter_page)\n",
    "    # row['fighter_name'] = fighter_info['fighter_name']\n",
    "    # row['type'] = fighter_info['type']\n",
    "    # add matches to match df\n",
    "    return row\n",
    "    \n",
    "only_errors = only_errors.apply(verify, axis=1)"
   ]
  },
  {
   "cell_type": "code",
   "execution_count": null,
   "metadata": {
    "collapsed": false
   },
   "outputs": [],
   "source": []
  },
  {
   "cell_type": "code",
   "execution_count": null,
   "metadata": {
    "collapsed": true
   },
   "outputs": [],
   "source": []
  }
 ],
 "metadata": {
  "kernelspec": {
   "display_name": "Python 3",
   "language": "python",
   "name": "python3"
  },
  "language_info": {
   "codemirror_mode": {
    "name": "ipython",
    "version": 3
   },
   "file_extension": ".py",
   "mimetype": "text/x-python",
   "name": "python",
   "nbconvert_exporter": "python",
   "pygments_lexer": "ipython3",
   "version": "3.5.2"
  }
 },
 "nbformat": 4,
 "nbformat_minor": 0
}
