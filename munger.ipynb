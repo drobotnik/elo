{
 "cells": [
  {
   "cell_type": "code",
   "execution_count": null,
   "metadata": {
    "collapsed": false
   },
   "outputs": [],
   "source": [
    "import pandas as pd\n",
    "import requests as r\n",
    "from bs4 import BeautifulSoup\n",
    "from pprint import pprint\n",
    "\n",
    "class StrategyError(Exception):\n",
    "    pass\n",
    "\n",
    "fighters = pd.read_csv('fighter_sot.csv', encoding='iso-8859-1', low_memory=False)"
   ]
  },
  {
   "cell_type": "code",
   "execution_count": null,
   "metadata": {
    "collapsed": false
   },
   "outputs": [],
   "source": [
    "not_missing = fighters['type'] == 'e'\n",
    "not_found = fighters['fighter_name'].isnull()"
   ]
  },
  {
   "cell_type": "code",
   "execution_count": null,
   "metadata": {
    "collapsed": false
   },
   "outputs": [],
   "source": [
    "only_errors = fighters[not_found & not_missing]"
   ]
  },
  {
   "cell_type": "code",
   "execution_count": null,
   "metadata": {
    "collapsed": false
   },
   "outputs": [],
   "source": [
    "correct = [1,2,3]\n",
    "incorrect = [128663, 128669, 128769]\n",
    "sample = correct + incorrect"
   ]
  },
  {
   "cell_type": "code",
   "execution_count": null,
   "metadata": {
    "collapsed": false
   },
   "outputs": [],
   "source": [
    "def find_name(soup):\n",
    "    name_div = soup.find('div', {\"class\": \"module bio_fighter vcard\"})\n",
    "    fighter_name = soup.find('h1', {'itemprop': 'name'}).span.contents[0]\n",
    "    return fighter_name\n",
    "\n",
    "\n",
    "def find_pro_fights(soup, fighter_id):\n",
    "    fight_divs = soup.findAll('div', {\"class\": \"module fight_history\"})\n",
    "    for section in fight_divs:\n",
    "        section_type = section.find('div', {\"class\": \"module_header\"}).contents[1].text\n",
    "        if 'Fight History - Pro' == section_type:\n",
    "            cells = []\n",
    "            event_date = 'NO FIGHTS FOUND'\n",
    "            for row in section.findAll('tr')[1:]:\n",
    "                result_cell, fighter_cell, event_cell, *blah = row.findAll('td')\n",
    "                result = result_cell.span.contents[0]\n",
    "                opponent_id_url = fighter_cell.contents[0]['href']\n",
    "                try:\n",
    "                    opponent_id = int(opponent_id_url[opponent_id_url.rfind(\"-\") + 1:])\n",
    "                except ValueError:\n",
    "                    # opponent is 'Unknown opponent'\n",
    "                    opponent_id = 0\n",
    "                event_link = event_cell.contents[0]['href']\n",
    "                event_date = event_cell.findAll('span')[-1].contents[0]\n",
    "                fighter_out = (fighter_id, opponent_id, result, event_date, event_link)\n",
    "                cells += [fighter_out]\n",
    "                \n",
    "            return cells\n",
    "    print(fighter_id)\n",
    "    raise StrategyError('didnt find any pro fights')\n",
    "    \n",
    "    \n",
    "def parse_fighter_page(page_soup, fighter_id):\n",
    "    fighter_info = {}\n",
    "    try:\n",
    "        fighter_info['fighter_name'] = find_name(page_soup)\n",
    "        fighter_info['type'] = 'f'\n",
    "    except AttributeError:\n",
    "        fighter_info['fighter_name'] = 'no_fighter'\n",
    "        fighter_info['type'] = 'm'\n",
    "        return fighter_info\n",
    "    try:\n",
    "        fighter_info['matches'] = find_pro_fights(page_soup, fighter_id)\n",
    "    except StrategyError:\n",
    "        print('Could not find pro fights!')\n",
    "        fighter_info['type'] = 'a'\n",
    "        fighter_info['matches'] = []\n",
    "    return fighter_info\n",
    "\n",
    "def verify(row):\n",
    "#     try:\n",
    "    name = row['fighter_name']\n",
    "    fighter_id = row['id']\n",
    "    row_type = row['type']\n",
    "#     except TypeError:\n",
    "#         row = {'id': row}\n",
    "#         fighter_id = row['id']\n",
    "    \n",
    "    page = r.get(\"http://www.sherdog.com/fighter/index?id={}\".format(fighter_id), timeout=3).text\n",
    "    my_soup = BeautifulSoup(page, 'html.parser')\n",
    "\n",
    "    fighter_info = parse_fighter_page(my_soup, fighter_id)\n",
    "    row['fighter_name'] = fighter_info['fighter_name']\n",
    "    row['type'] = fighter_info['type']\n",
    "    row['matches'] = fighter_info['matches']\n",
    "    print(row['id'], row['fighter_name'])\n",
    "    return row\n",
    "    "
   ]
  },
  {
   "cell_type": "code",
   "execution_count": null,
   "metadata": {
    "collapsed": false
   },
   "outputs": [],
   "source": [
    "only_errors = only_errors.apply(verify, axis=1)"
   ]
  },
  {
   "cell_type": "code",
   "execution_count": null,
   "metadata": {
    "collapsed": false
   },
   "outputs": [],
   "source": [
    "only_errors[only_errors['id'] >= 135185]"
   ]
  },
  {
   "cell_type": "code",
   "execution_count": null,
   "metadata": {
    "collapsed": true
   },
   "outputs": [],
   "source": []
  }
 ],
 "metadata": {
  "kernelspec": {
   "display_name": "Python 3",
   "language": "python",
   "name": "python3"
  },
  "language_info": {
   "codemirror_mode": {
    "name": "ipython",
    "version": 3
   },
   "file_extension": ".py",
   "mimetype": "text/x-python",
   "name": "python",
   "nbconvert_exporter": "python",
   "pygments_lexer": "ipython3",
   "version": "3.5.2"
  }
 },
 "nbformat": 4,
 "nbformat_minor": 0
}
